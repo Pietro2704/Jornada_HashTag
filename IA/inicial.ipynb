{
 "cells": [
  {
   "cell_type": "markdown",
   "metadata": {},
   "source": [
    "# Projeto Python IA: Inteligência Artificial e Previsões\n",
    "\n",
    "### Case: Score de Crédito dos Clientes\n",
    "\n",
    "Você foi contratado por um banco para conseguir definir o score de crédito dos clientes. Você precisa analisar todos os clientes do banco e, com base nessa análise, criar um modelo que consiga ler as informações do cliente e dizer automaticamente o score de crédito dele: Ruim, Ok, Bom\n",
    "\n",
    "Arquivos da aula: https://drive.google.com/drive/folders/1FbDqVq4XLvU85VBlVIMJ73p9oOu6u2-J?usp=drive_link"
   ]
  },
  {
   "cell_type": "code",
   "execution_count": null,
   "metadata": {},
   "outputs": [],
   "source": [
    "# IMPORTAR TABELA\n",
    "\n",
    "import pandas as pd\n",
    "\n",
    "arquivo = 'C:\\\\Users\\\\Pietro Rosolia\\\\Desktop\\\\VScode\\\\Cursos\\\\PYTHON\\\\Jornada_HashTag\\\\IA\\\\clientes.csv'\n",
    "tabela = pd.read_csv(arquivo)\n",
    "\n",
    "display(tabela)"
   ]
  },
  {
   "cell_type": "code",
   "execution_count": null,
   "metadata": {},
   "outputs": [],
   "source": [
    "# ANALISAR TABELA\n",
    "\n",
    "display(tabela.info())"
   ]
  },
  {
   "cell_type": "code",
   "execution_count": null,
   "metadata": {},
   "outputs": [],
   "source": [
    "# CODIFICAR AS COLUNAS TEXTO EM NUMERO\n",
    "\n",
    "from sklearn.preprocessing import LabelEncoder\n",
    "\n",
    "codificador = LabelEncoder()\n",
    "\n",
    "tabela['profissao'] = codificador.fit_transform(tabela['profissao'])\n",
    "\n",
    "tabela['mix_credito'] = codificador.fit_transform(tabela['mix_credito'])\n",
    "\n",
    "tabela['comportamento_pagamento'] = codificador.fit_transform(tabela['comportamento_pagamento'])"
   ]
  },
  {
   "cell_type": "code",
   "execution_count": null,
   "metadata": {},
   "outputs": [],
   "source": [
    "# APRENDIZADO DE MÁQUINA\n",
    "\n",
    "# x recebe as colunas que serão usadas para fazer a previsão\n",
    "# y recebe a coluna que você quer prever\n",
    "\n",
    "x = tabela.drop(columns=['score_credito','id_cliente'])\n",
    "y = tabela['score_credito']\n",
    "\n",
    "from sklearn.model_selection import train_test_split\n",
    "\n",
    "x_treino, x_teste, y_treino, y_teste = train_test_split(x,y) # test_size = 0.3"
   ]
  },
  {
   "cell_type": "code",
   "execution_count": null,
   "metadata": {},
   "outputs": [],
   "source": [
    "#  TREINANDO A IA\n",
    "\n",
    "# importa ia\n",
    "from sklearn.ensemble import RandomForestClassifier\n",
    "from sklearn.neighbors import KNeighborsClassifier\n",
    "\n",
    "# cria ia\n",
    "modelo_arvore_decisao = RandomForestClassifier()\n",
    "modelo_knn = KNeighborsClassifier()\n",
    "\n",
    "# treina ia\n",
    "modelo_arvore_decisao.fit(x_treino, y_treino)\n",
    "modelo_knn.fit(x_treino, y_treino)"
   ]
  },
  {
   "cell_type": "code",
   "execution_count": null,
   "metadata": {},
   "outputs": [],
   "source": [
    "# OBTENDO PREVISÃO DA IA\n",
    "\n",
    "previsao_arvore = modelo_arvore_decisao.predict(x_teste)\n",
    "previsao_knn = modelo_knn.predict(x_teste)"
   ]
  },
  {
   "cell_type": "code",
   "execution_count": null,
   "metadata": {},
   "outputs": [],
   "source": [
    "# VER A PORCENTAGEM DE ACERTO DE CADA IA\n",
    "\n",
    "from sklearn.metrics import accuracy_score\n",
    "\n",
    "print(accuracy_score(y_teste, previsao_arvore))\n",
    "print(accuracy_score(y_teste, previsao_knn))"
   ]
  },
  {
   "cell_type": "code",
   "execution_count": null,
   "metadata": {},
   "outputs": [],
   "source": [
    "# FAZER NOVAS PREVISÕES\n",
    "\n",
    "# importar novos clientes\n",
    "caminho = 'C:\\\\Users\\\\Pietro Rosolia\\\\Desktop\\\\VScode\\\\Cursos\\\\PYTHON\\\\Jornada_HashTag\\\\IA\\\\novos_clientes.csv'\n",
    "tabela_novos_clientes = pd.read_csv(caminho)\n",
    "\n",
    "# codificar novos clientes\n",
    "tabela_novos_clientes['profissao'] = codificador.fit_transform(tabela_novos_clientes['profissao'])\n",
    "tabela_novos_clientes['mix_credito'] = codificador.fit_transform(tabela_novos_clientes['mix_credito'])\n",
    "tabela_novos_clientes['comportamento_pagamento'] = codificador.fit_transform(tabela_novos_clientes['comportamento_pagamento'])\n",
    "\n",
    "# nova previsão\n",
    "previsoes = modelo_arvore_decisao.predict(tabela_novos_clientes)\n",
    "print(previsoes)"
   ]
  }
 ],
 "metadata": {
  "kernelspec": {
   "display_name": "Python 3",
   "language": "python",
   "name": "python3"
  },
  "language_info": {
   "codemirror_mode": {
    "name": "ipython",
    "version": 3
   },
   "file_extension": ".py",
   "mimetype": "text/x-python",
   "name": "python",
   "nbconvert_exporter": "python",
   "pygments_lexer": "ipython3",
   "version": "3.10.4"
  },
  "orig_nbformat": 4
 },
 "nbformat": 4,
 "nbformat_minor": 2
}
