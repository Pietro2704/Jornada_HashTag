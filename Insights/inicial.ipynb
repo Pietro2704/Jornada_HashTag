{
 "cells": [
  {
   "cell_type": "markdown",
   "metadata": {},
   "source": [
    "# Python Insights - Analisando Dados com Python\n",
    "\n",
    "### Case - Cancelamento de Clientes\n",
    "\n",
    "Você foi contratado por uma empresa com mais de 800 mil clientes para um projeto de Dados. Recentemente a empresa percebeu que da sua base total de clientes, a maioria são clientes inativos, ou seja, que já cancelaram o serviço.\n",
    "\n",
    "Precisando melhorar seus resultados ela quer conseguir entender os principais motivos desses cancelamentos e quais as ações mais eficientes para reduzir esse número.\n",
    "\n",
    "Base de dados e arquivos: https://drive.google.com/drive/folders/1uDesZePdkhiraJmiyeZ-w5tfc8XsNYFZ?usp=drive_link"
   ]
  },
  {
   "cell_type": "code",
   "execution_count": null,
   "metadata": {},
   "outputs": [],
   "source": [
    "# IMPORTAR TABELA\n",
    "\n",
    "import pandas as pd\n",
    "\n",
    "arquivo = 'C:\\\\Users\\\\Pietro Rosolia\\\\Desktop\\\\VScode\\\\Cursos\\\\PYTHON\\\\Jornada_HashTag\\\\Insights\\\\cancelamentos.csv'\n",
    "\n",
    "tabela = pd.read_csv(arquivo)\n",
    "\n",
    "#tabela = tabela.drop(columns=['CustomerID','idade','ligacoes_callcenter'])\n",
    "\n",
    "display(tabela)"
   ]
  },
  {
   "cell_type": "code",
   "execution_count": null,
   "metadata": {},
   "outputs": [],
   "source": [
    "# ANALISAR TABELA\n",
    "\n",
    "display(tabela.info())"
   ]
  },
  {
   "cell_type": "code",
   "execution_count": null,
   "metadata": {},
   "outputs": [],
   "source": [
    "# EXCLUIR LINHAS COM VALORES VAZIOS\n",
    "\n",
    "tabela = tabela.dropna()"
   ]
  },
  {
   "cell_type": "code",
   "execution_count": null,
   "metadata": {},
   "outputs": [],
   "source": [
    "# VER QUANTAS PESSOAS CANCELARAM\n",
    "\n",
    "display(tabela['cancelou'].value_counts(normalize=True)) # coloca em percentual a soma dos valores do campo 'cancelou'\n",
    "\n",
    "# display(tabela[\"cancelou\"].value_counts(normalize=True).map(\"{:.1%}\".format))      # percentual mais 'bonito' de ver"
   ]
  },
  {
   "cell_type": "code",
   "execution_count": null,
   "metadata": {},
   "outputs": [],
   "source": [
    "# MONTAR UM GRAFICO DA COLUNA 'duracao_contrato' E COMPARAR O NUMERO DE CANCELAMENTOS\n",
    "\n",
    "import plotly.express as px\n",
    "\n",
    "grafico = px.histogram(tabela, x='duracao_contrato', color='cancelou')\n",
    "\n",
    "grafico.show()\n"
   ]
  },
  {
   "cell_type": "code",
   "execution_count": null,
   "metadata": {},
   "outputs": [],
   "source": [
    "# MONTAR UM GRAFICO DE CADA COLUNA DA TABELA E COMPARAR O NUMERO DE CANCELAMENTOS\n",
    "\n",
    "for coluna in tabela.columns:\n",
    "  grafico = px.histogram(tabela, x=coluna, color='cancelou')\n",
    "  grafico.show()"
   ]
  },
  {
   "cell_type": "markdown",
   "metadata": {},
   "source": [
    "# Problemas encontrados:\n",
    "\n",
    "## TODOS clientes do contrato mensal cancelam\n",
    "- Oferecer desconto nos planos anuais e trimestrais\n",
    "\n",
    "## Se ligar mais de 4 vezes para o call center cancelam\n",
    "- Resolver o problema do cliente em no máximo 3 ligações\n",
    "\n",
    "## Clientes que atrasam o pagamento mais de 20 dias cancelam\n",
    "- Política de resolver atrasos em até 10 dias (Equipe Financeira)"
   ]
  },
  {
   "cell_type": "code",
   "execution_count": null,
   "metadata": {},
   "outputs": [],
   "source": [
    "# FILTRAR E REMOVER OS PROBLEMAS ENCONTRADOS\n",
    "\n",
    "# tabela = tabela[condicao]\n",
    "\n",
    "tabela = tabela[tabela['duracao_contrato'] != 'Monthly']\n",
    "tabela = tabela[tabela['ligacoes_callcenter']<=4]\n",
    "tabela = tabela[tabela['dias_atraso']<=20]\n",
    "\n",
    "\n",
    "display(tabela['cancelou'].value_counts(normalize=True))"
   ]
  }
 ],
 "metadata": {
  "kernelspec": {
   "display_name": "base",
   "language": "python",
   "name": "python3"
  },
  "language_info": {
   "codemirror_mode": {
    "name": "ipython",
    "version": 3
   },
   "file_extension": ".py",
   "mimetype": "text/x-python",
   "name": "python",
   "nbconvert_exporter": "python",
   "pygments_lexer": "ipython3",
   "version": "3.10.4"
  },
  "orig_nbformat": 4
 },
 "nbformat": 4,
 "nbformat_minor": 2
}
